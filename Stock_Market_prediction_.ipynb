{
  "nbformat": 4,
  "nbformat_minor": 0,
  "metadata": {
    "colab": {
      "name": "Stock Market prediction .ipynb",
      "provenance": [],
      "authorship_tag": "ABX9TyMeg098yfw4/OfVKdH59I28",
      "include_colab_link": true
    },
    "kernelspec": {
      "name": "python3",
      "display_name": "Python 3"
    },
    "language_info": {
      "name": "python"
    }
  },
  "cells": [
    {
      "cell_type": "markdown",
      "metadata": {
        "id": "view-in-github",
        "colab_type": "text"
      },
      "source": [
        "<a href=\"https://colab.research.google.com/github/palash9213/Stock-Market-Prediction/blob/main/Stock_Market_prediction_.ipynb\" target=\"_parent\"><img src=\"https://colab.research.google.com/assets/colab-badge.svg\" alt=\"Open In Colab\"/></a>"
      ]
    },
    {
      "cell_type": "code",
      "metadata": {
        "id": "McFZMn4L9sHF"
      },
      "source": [
        ""
      ],
      "execution_count": null,
      "outputs": []
    },
    {
      "cell_type": "markdown",
      "metadata": {
        "id": "25-yLSuj9qgl"
      },
      "source": [
        "Stock price prediction is a machine learning project for beginners; in this tutorial we learned how to develop a stock cost prediction model and how to build an interactive dashboard for stock analysis. We implemented stock market prediction using the LSTM model. OTOH, Plotly dash python framework for building dashboards."
      ]
    },
    {
      "cell_type": "code",
      "metadata": {
        "id": "BXs-1TVdbT4F"
      },
      "source": [
        "import numpy as np\n",
        "from sklearn.model_selection import train_test_split\n",
        "from sklearn.linear_model import LinearRegression\n",
        "from sklearn import metrics\n",
        "import matplotlib.pyplot as plt\n",
        "\n",
        "\n"
      ],
      "execution_count": 2,
      "outputs": []
    },
    {
      "cell_type": "code",
      "metadata": {
        "colab": {
          "base_uri": "https://localhost:8080/",
          "height": 417
        },
        "id": "LrU0CAvacsgY",
        "outputId": "066f3d86-b0db-43dc-e9b5-814232fadd86"
      },
      "source": [
        "import pandas as pd\n",
        "df= pd.read_csv('/content/TSLA.csv')\n",
        "df"
      ],
      "execution_count": 8,
      "outputs": [
        {
          "output_type": "execute_result",
          "data": {
            "text/html": [
              "<div>\n",
              "<style scoped>\n",
              "    .dataframe tbody tr th:only-of-type {\n",
              "        vertical-align: middle;\n",
              "    }\n",
              "\n",
              "    .dataframe tbody tr th {\n",
              "        vertical-align: top;\n",
              "    }\n",
              "\n",
              "    .dataframe thead th {\n",
              "        text-align: right;\n",
              "    }\n",
              "</style>\n",
              "<table border=\"1\" class=\"dataframe\">\n",
              "  <thead>\n",
              "    <tr style=\"text-align: right;\">\n",
              "      <th></th>\n",
              "      <th>Date</th>\n",
              "      <th>Open</th>\n",
              "      <th>High</th>\n",
              "      <th>Low</th>\n",
              "      <th>Close</th>\n",
              "      <th>Adj Close</th>\n",
              "      <th>Volume</th>\n",
              "    </tr>\n",
              "  </thead>\n",
              "  <tbody>\n",
              "    <tr>\n",
              "      <th>0</th>\n",
              "      <td>2010-06-29</td>\n",
              "      <td>19.000000</td>\n",
              "      <td>25.000000</td>\n",
              "      <td>17.540001</td>\n",
              "      <td>23.889999</td>\n",
              "      <td>23.889999</td>\n",
              "      <td>18766300</td>\n",
              "    </tr>\n",
              "    <tr>\n",
              "      <th>1</th>\n",
              "      <td>2010-06-30</td>\n",
              "      <td>25.790001</td>\n",
              "      <td>30.420000</td>\n",
              "      <td>23.299999</td>\n",
              "      <td>23.830000</td>\n",
              "      <td>23.830000</td>\n",
              "      <td>17187100</td>\n",
              "    </tr>\n",
              "    <tr>\n",
              "      <th>2</th>\n",
              "      <td>2010-07-01</td>\n",
              "      <td>25.000000</td>\n",
              "      <td>25.920000</td>\n",
              "      <td>20.270000</td>\n",
              "      <td>21.959999</td>\n",
              "      <td>21.959999</td>\n",
              "      <td>8218800</td>\n",
              "    </tr>\n",
              "    <tr>\n",
              "      <th>3</th>\n",
              "      <td>2010-07-02</td>\n",
              "      <td>23.000000</td>\n",
              "      <td>23.100000</td>\n",
              "      <td>18.709999</td>\n",
              "      <td>19.200001</td>\n",
              "      <td>19.200001</td>\n",
              "      <td>5139800</td>\n",
              "    </tr>\n",
              "    <tr>\n",
              "      <th>4</th>\n",
              "      <td>2010-07-06</td>\n",
              "      <td>20.000000</td>\n",
              "      <td>20.000000</td>\n",
              "      <td>15.830000</td>\n",
              "      <td>16.110001</td>\n",
              "      <td>16.110001</td>\n",
              "      <td>6866900</td>\n",
              "    </tr>\n",
              "    <tr>\n",
              "      <th>...</th>\n",
              "      <td>...</td>\n",
              "      <td>...</td>\n",
              "      <td>...</td>\n",
              "      <td>...</td>\n",
              "      <td>...</td>\n",
              "      <td>...</td>\n",
              "      <td>...</td>\n",
              "    </tr>\n",
              "    <tr>\n",
              "      <th>2411</th>\n",
              "      <td>2020-01-28</td>\n",
              "      <td>568.489990</td>\n",
              "      <td>576.809998</td>\n",
              "      <td>558.080017</td>\n",
              "      <td>566.900024</td>\n",
              "      <td>566.900024</td>\n",
              "      <td>11788500</td>\n",
              "    </tr>\n",
              "    <tr>\n",
              "      <th>2412</th>\n",
              "      <td>2020-01-29</td>\n",
              "      <td>575.690002</td>\n",
              "      <td>589.799988</td>\n",
              "      <td>567.429993</td>\n",
              "      <td>580.989990</td>\n",
              "      <td>580.989990</td>\n",
              "      <td>17801500</td>\n",
              "    </tr>\n",
              "    <tr>\n",
              "      <th>2413</th>\n",
              "      <td>2020-01-30</td>\n",
              "      <td>632.419983</td>\n",
              "      <td>650.880005</td>\n",
              "      <td>618.000000</td>\n",
              "      <td>640.809998</td>\n",
              "      <td>640.809998</td>\n",
              "      <td>29005700</td>\n",
              "    </tr>\n",
              "    <tr>\n",
              "      <th>2414</th>\n",
              "      <td>2020-01-31</td>\n",
              "      <td>640.000000</td>\n",
              "      <td>653.000000</td>\n",
              "      <td>632.520020</td>\n",
              "      <td>650.570007</td>\n",
              "      <td>650.570007</td>\n",
              "      <td>15719300</td>\n",
              "    </tr>\n",
              "    <tr>\n",
              "      <th>2415</th>\n",
              "      <td>2020-02-03</td>\n",
              "      <td>673.690002</td>\n",
              "      <td>786.140015</td>\n",
              "      <td>673.520020</td>\n",
              "      <td>780.000000</td>\n",
              "      <td>780.000000</td>\n",
              "      <td>47065000</td>\n",
              "    </tr>\n",
              "  </tbody>\n",
              "</table>\n",
              "<p>2416 rows × 7 columns</p>\n",
              "</div>"
            ],
            "text/plain": [
              "            Date        Open        High  ...       Close   Adj Close    Volume\n",
              "0     2010-06-29   19.000000   25.000000  ...   23.889999   23.889999  18766300\n",
              "1     2010-06-30   25.790001   30.420000  ...   23.830000   23.830000  17187100\n",
              "2     2010-07-01   25.000000   25.920000  ...   21.959999   21.959999   8218800\n",
              "3     2010-07-02   23.000000   23.100000  ...   19.200001   19.200001   5139800\n",
              "4     2010-07-06   20.000000   20.000000  ...   16.110001   16.110001   6866900\n",
              "...          ...         ...         ...  ...         ...         ...       ...\n",
              "2411  2020-01-28  568.489990  576.809998  ...  566.900024  566.900024  11788500\n",
              "2412  2020-01-29  575.690002  589.799988  ...  580.989990  580.989990  17801500\n",
              "2413  2020-01-30  632.419983  650.880005  ...  640.809998  640.809998  29005700\n",
              "2414  2020-01-31  640.000000  653.000000  ...  650.570007  650.570007  15719300\n",
              "2415  2020-02-03  673.690002  786.140015  ...  780.000000  780.000000  47065000\n",
              "\n",
              "[2416 rows x 7 columns]"
            ]
          },
          "metadata": {},
          "execution_count": 8
        }
      ]
    },
    {
      "cell_type": "code",
      "metadata": {
        "colab": {
          "base_uri": "https://localhost:8080/"
        },
        "id": "uRrghLpMcsc4",
        "outputId": "99563aff-2908-4dd1-cf4e-a86cc3244ac0"
      },
      "source": [
        "print(df.head(25))"
      ],
      "execution_count": 9,
      "outputs": [
        {
          "output_type": "stream",
          "name": "stdout",
          "text": [
            "          Date       Open       High        Low      Close  Adj Close    Volume\n",
            "0   2010-06-29  19.000000  25.000000  17.540001  23.889999  23.889999  18766300\n",
            "1   2010-06-30  25.790001  30.420000  23.299999  23.830000  23.830000  17187100\n",
            "2   2010-07-01  25.000000  25.920000  20.270000  21.959999  21.959999   8218800\n",
            "3   2010-07-02  23.000000  23.100000  18.709999  19.200001  19.200001   5139800\n",
            "4   2010-07-06  20.000000  20.000000  15.830000  16.110001  16.110001   6866900\n",
            "5   2010-07-07  16.400000  16.629999  14.980000  15.800000  15.800000   6921700\n",
            "6   2010-07-08  16.139999  17.520000  15.570000  17.459999  17.459999   7711400\n",
            "7   2010-07-09  17.580000  17.900000  16.549999  17.400000  17.400000   4050600\n",
            "8   2010-07-12  17.950001  18.070000  17.000000  17.049999  17.049999   2202500\n",
            "9   2010-07-13  17.389999  18.639999  16.900000  18.139999  18.139999   2680100\n",
            "10  2010-07-14  17.940001  20.150000  17.760000  19.840000  19.840000   4195200\n",
            "11  2010-07-15  19.940001  21.500000  19.000000  19.889999  19.889999   3739800\n",
            "12  2010-07-16  20.700001  21.299999  20.049999  20.639999  20.639999   2621300\n",
            "13  2010-07-19  21.370001  22.250000  20.920000  21.910000  21.910000   2486500\n",
            "14  2010-07-20  21.850000  21.850000  20.049999  20.299999  20.299999   1825300\n",
            "15  2010-07-21  20.660000  20.900000  19.500000  20.219999  20.219999   1252500\n",
            "16  2010-07-22  20.500000  21.250000  20.370001  21.000000  21.000000    957800\n",
            "17  2010-07-23  21.190001  21.559999  21.059999  21.290001  21.290001    653600\n",
            "18  2010-07-26  21.500000  21.500000  20.299999  20.950001  20.950001    922200\n",
            "19  2010-07-27  20.910000  21.180000  20.260000  20.549999  20.549999    619700\n",
            "20  2010-07-28  20.549999  20.900000  20.510000  20.719999  20.719999    467200\n",
            "21  2010-07-29  20.770000  20.879999  20.000000  20.350000  20.350000    616000\n",
            "22  2010-07-30  20.200001  20.440001  19.549999  19.940001  19.940001    426900\n",
            "23  2010-08-02  20.500000  20.969999  20.330000  20.920000  20.920000    718100\n",
            "24  2010-08-03  21.000000  21.950001  20.820000  21.950001  21.950001   1230500\n"
          ]
        }
      ]
    },
    {
      "cell_type": "code",
      "metadata": {
        "id": "syz-2ROTcsbE"
      },
      "source": [
        "x=df[['High','Open','Low','Volume']].values\n",
        "y=df[['Close']].values  \n"
      ],
      "execution_count": 10,
      "outputs": []
    },
    {
      "cell_type": "code",
      "metadata": {
        "id": "QMHBQziXcsZI"
      },
      "source": [
        "x_train,x_test,y_train,y_test = train_test_split(x,y,test_size=0.2,random_state=0)"
      ],
      "execution_count": 11,
      "outputs": []
    },
    {
      "cell_type": "code",
      "metadata": {
        "colab": {
          "base_uri": "https://localhost:8080/"
        },
        "id": "0C4E_7AucsW_",
        "outputId": "9195fe19-fa04-41ef-bd72-dde9055778f9"
      },
      "source": [
        "regressor=LinearRegression()\n",
        "regressor.fit(x_train,y_train)"
      ],
      "execution_count": 12,
      "outputs": [
        {
          "output_type": "execute_result",
          "data": {
            "text/plain": [
              "LinearRegression(copy_X=True, fit_intercept=True, n_jobs=None, normalize=False)"
            ]
          },
          "metadata": {},
          "execution_count": 12
        }
      ]
    },
    {
      "cell_type": "code",
      "metadata": {
        "colab": {
          "base_uri": "https://localhost:8080/",
          "height": 819
        },
        "id": "gDh3-_j6jdWU",
        "outputId": "0273f1b8-1fb1-4ca4-b4e3-79fb066dabbb"
      },
      "source": [
        "y_pred = regressor.predict(x_test)\n",
        "result = pd.DataFrame({'Actual':y_test.flatten(),'Predicted':y_pred.flatten()})\n",
        "result.head(25)"
      ],
      "execution_count": 15,
      "outputs": [
        {
          "output_type": "execute_result",
          "data": {
            "text/html": [
              "<div>\n",
              "<style scoped>\n",
              "    .dataframe tbody tr th:only-of-type {\n",
              "        vertical-align: middle;\n",
              "    }\n",
              "\n",
              "    .dataframe tbody tr th {\n",
              "        vertical-align: top;\n",
              "    }\n",
              "\n",
              "    .dataframe thead th {\n",
              "        text-align: right;\n",
              "    }\n",
              "</style>\n",
              "<table border=\"1\" class=\"dataframe\">\n",
              "  <thead>\n",
              "    <tr style=\"text-align: right;\">\n",
              "      <th></th>\n",
              "      <th>Actual</th>\n",
              "      <th>Predicted</th>\n",
              "    </tr>\n",
              "  </thead>\n",
              "  <tbody>\n",
              "    <tr>\n",
              "      <th>0</th>\n",
              "      <td>207.729996</td>\n",
              "      <td>211.933274</td>\n",
              "    </tr>\n",
              "    <tr>\n",
              "      <th>1</th>\n",
              "      <td>28.280001</td>\n",
              "      <td>28.343446</td>\n",
              "    </tr>\n",
              "    <tr>\n",
              "      <th>2</th>\n",
              "      <td>24.010000</td>\n",
              "      <td>23.967470</td>\n",
              "    </tr>\n",
              "    <tr>\n",
              "      <th>3</th>\n",
              "      <td>315.230011</td>\n",
              "      <td>326.638890</td>\n",
              "    </tr>\n",
              "    <tr>\n",
              "      <th>4</th>\n",
              "      <td>200.240005</td>\n",
              "      <td>197.999511</td>\n",
              "    </tr>\n",
              "    <tr>\n",
              "      <th>5</th>\n",
              "      <td>210.240005</td>\n",
              "      <td>209.841431</td>\n",
              "    </tr>\n",
              "    <tr>\n",
              "      <th>6</th>\n",
              "      <td>26.440001</td>\n",
              "      <td>26.570540</td>\n",
              "    </tr>\n",
              "    <tr>\n",
              "      <th>7</th>\n",
              "      <td>22.790001</td>\n",
              "      <td>24.115965</td>\n",
              "    </tr>\n",
              "    <tr>\n",
              "      <th>8</th>\n",
              "      <td>224.839996</td>\n",
              "      <td>218.550465</td>\n",
              "    </tr>\n",
              "    <tr>\n",
              "      <th>9</th>\n",
              "      <td>353.179993</td>\n",
              "      <td>350.599448</td>\n",
              "    </tr>\n",
              "    <tr>\n",
              "      <th>10</th>\n",
              "      <td>219.039993</td>\n",
              "      <td>216.709997</td>\n",
              "    </tr>\n",
              "    <tr>\n",
              "      <th>11</th>\n",
              "      <td>278.480011</td>\n",
              "      <td>280.400500</td>\n",
              "    </tr>\n",
              "    <tr>\n",
              "      <th>12</th>\n",
              "      <td>31.799999</td>\n",
              "      <td>31.696980</td>\n",
              "    </tr>\n",
              "    <tr>\n",
              "      <th>13</th>\n",
              "      <td>102.199997</td>\n",
              "      <td>102.555421</td>\n",
              "    </tr>\n",
              "    <tr>\n",
              "      <th>14</th>\n",
              "      <td>20.430000</td>\n",
              "      <td>20.400226</td>\n",
              "    </tr>\n",
              "    <tr>\n",
              "      <th>15</th>\n",
              "      <td>346.049988</td>\n",
              "      <td>349.798911</td>\n",
              "    </tr>\n",
              "    <tr>\n",
              "      <th>16</th>\n",
              "      <td>104.629997</td>\n",
              "      <td>103.437858</td>\n",
              "    </tr>\n",
              "    <tr>\n",
              "      <th>17</th>\n",
              "      <td>260.170013</td>\n",
              "      <td>258.029938</td>\n",
              "    </tr>\n",
              "    <tr>\n",
              "      <th>18</th>\n",
              "      <td>28.059999</td>\n",
              "      <td>27.728118</td>\n",
              "    </tr>\n",
              "    <tr>\n",
              "      <th>19</th>\n",
              "      <td>225.000000</td>\n",
              "      <td>223.910762</td>\n",
              "    </tr>\n",
              "    <tr>\n",
              "      <th>20</th>\n",
              "      <td>359.700012</td>\n",
              "      <td>363.878761</td>\n",
              "    </tr>\n",
              "    <tr>\n",
              "      <th>21</th>\n",
              "      <td>327.779999</td>\n",
              "      <td>325.905607</td>\n",
              "    </tr>\n",
              "    <tr>\n",
              "      <th>22</th>\n",
              "      <td>220.690002</td>\n",
              "      <td>221.709428</td>\n",
              "    </tr>\n",
              "    <tr>\n",
              "      <th>23</th>\n",
              "      <td>337.950012</td>\n",
              "      <td>341.854508</td>\n",
              "    </tr>\n",
              "    <tr>\n",
              "      <th>24</th>\n",
              "      <td>308.739990</td>\n",
              "      <td>306.219717</td>\n",
              "    </tr>\n",
              "  </tbody>\n",
              "</table>\n",
              "</div>"
            ],
            "text/plain": [
              "        Actual   Predicted\n",
              "0   207.729996  211.933274\n",
              "1    28.280001   28.343446\n",
              "2    24.010000   23.967470\n",
              "3   315.230011  326.638890\n",
              "4   200.240005  197.999511\n",
              "5   210.240005  209.841431\n",
              "6    26.440001   26.570540\n",
              "7    22.790001   24.115965\n",
              "8   224.839996  218.550465\n",
              "9   353.179993  350.599448\n",
              "10  219.039993  216.709997\n",
              "11  278.480011  280.400500\n",
              "12   31.799999   31.696980\n",
              "13  102.199997  102.555421\n",
              "14   20.430000   20.400226\n",
              "15  346.049988  349.798911\n",
              "16  104.629997  103.437858\n",
              "17  260.170013  258.029938\n",
              "18   28.059999   27.728118\n",
              "19  225.000000  223.910762\n",
              "20  359.700012  363.878761\n",
              "21  327.779999  325.905607\n",
              "22  220.690002  221.709428\n",
              "23  337.950012  341.854508\n",
              "24  308.739990  306.219717"
            ]
          },
          "metadata": {},
          "execution_count": 15
        }
      ]
    },
    {
      "cell_type": "code",
      "metadata": {
        "id": "VHSZb4FIjfEI",
        "colab": {
          "base_uri": "https://localhost:8080/",
          "height": 285
        },
        "outputId": "7938f82d-782b-4bb7-a91f-b1dd9f80e79b"
      },
      "source": [
        "import math\n",
        "graph=result.head(20)\n",
        "graph.plot(kind='bar')"
      ],
      "execution_count": 18,
      "outputs": [
        {
          "output_type": "execute_result",
          "data": {
            "text/plain": [
              "<matplotlib.axes._subplots.AxesSubplot at 0x7fec1dec21d0>"
            ]
          },
          "metadata": {},
          "execution_count": 18
        },
        {
          "output_type": "display_data",
          "data": {
            "image/png": "[encoded data removed]",
            "text/plain": [
              "<Figure size 432x288 with 1 Axes>"
            ]
          },
          "metadata": {
            "needs_background": "light"
          }
        }
      ]
    },
    {
      "cell_type": "code",
      "metadata": {
        "colab": {
          "base_uri": "https://localhost:8080/"
        },
        "id": "0W4avu450whM",
        "outputId": "25199ca4-e201-4d88-8b69-e1aedadc4644"
      },
      "source": [
        "#Get the number of trading days\n",
        "df.shape"
      ],
      "execution_count": 19,
      "outputs": [
        {
          "output_type": "execute_result",
          "data": {
            "text/plain": [
              "(2416, 7)"
            ]
          },
          "metadata": {},
          "execution_count": 19
        }
      ]
    },
    {
      "cell_type": "code",
      "metadata": {
        "colab": {
          "base_uri": "https://localhost:8080/",
          "height": 513
        },
        "id": "hxUrQ5zh1Flg",
        "outputId": "7d90d7d9-5582-4ecc-de75-287449de3a6b"
      },
      "source": [
        "plt.figure(figsize=(16,8))\n",
        "plt.title('Tesla')\n",
        "plt.xlabel('days')\n",
        "plt.ylabel('Close price USD($)')\n",
        "plt.plot(df['Close'])\n",
        "plt.show()"
      ],
      "execution_count": 20,
      "outputs": [
        {
          "output_type": "display_data",
          "data": {
            "image/png": "[encoded data removed]",
            "text/plain": [
              "<Figure size 1152x576 with 1 Axes>"
            ]
          },
          "metadata": {
            "needs_background": "light"
          }
        }
      ]
    },
    {
      "cell_type": "code",
      "metadata": {
        "colab": {
          "base_uri": "https://localhost:8080/",
          "height": 172
        },
        "id": "IJF_ws6r59na",
        "outputId": "b6890876-6d75-421f-e49a-36a35d93643f"
      },
      "source": [
        "df=df[['Close']]\n",
        "df.head(4)"
      ],
      "execution_count": 21,
      "outputs": [
        {
          "output_type": "execute_result",
          "data": {
            "text/html": [
              "<div>\n",
              "<style scoped>\n",
              "    .dataframe tbody tr th:only-of-type {\n",
              "        vertical-align: middle;\n",
              "    }\n",
              "\n",
              "    .dataframe tbody tr th {\n",
              "        vertical-align: top;\n",
              "    }\n",
              "\n",
              "    .dataframe thead th {\n",
              "        text-align: right;\n",
              "    }\n",
              "</style>\n",
              "<table border=\"1\" class=\"dataframe\">\n",
              "  <thead>\n",
              "    <tr style=\"text-align: right;\">\n",
              "      <th></th>\n",
              "      <th>Close</th>\n",
              "    </tr>\n",
              "  </thead>\n",
              "  <tbody>\n",
              "    <tr>\n",
              "      <th>0</th>\n",
              "      <td>23.889999</td>\n",
              "    </tr>\n",
              "    <tr>\n",
              "      <th>1</th>\n",
              "      <td>23.830000</td>\n",
              "    </tr>\n",
              "    <tr>\n",
              "      <th>2</th>\n",
              "      <td>21.959999</td>\n",
              "    </tr>\n",
              "    <tr>\n",
              "      <th>3</th>\n",
              "      <td>19.200001</td>\n",
              "    </tr>\n",
              "  </tbody>\n",
              "</table>\n",
              "</div>"
            ],
            "text/plain": [
              "       Close\n",
              "0  23.889999\n",
              "1  23.830000\n",
              "2  21.959999\n",
              "3  19.200001"
            ]
          },
          "metadata": {},
          "execution_count": 21
        }
      ]
    },
    {
      "cell_type": "code",
      "metadata": {
        "colab": {
          "base_uri": "https://localhost:8080/",
          "height": 273
        },
        "id": "xfuiJLFj6EE3",
        "outputId": "c776ae00-ee51-4643-f169-5ad64ab19a0d"
      },
      "source": [
        "#Create a variable to predict 'X' days out into the future\n",
        "future_days=25\n",
        "df['Prediction']=df[['Close']].shift(-future_days)\n",
        "df.tail(4)"
      ],
      "execution_count": 22,
      "outputs": [
        {
          "output_type": "stream",
          "name": "stderr",
          "text": [
            "/usr/local/lib/python3.7/dist-packages/ipykernel_launcher.py:3: SettingWithCopyWarning: \n",
            "A value is trying to be set on a copy of a slice from a DataFrame.\n",
            "Try using .loc[row_indexer,col_indexer] = value instead\n",
            "\n",
            "See the caveats in the documentation: https://pandas.pydata.org/pandas-docs/stable/user_guide/indexing.html#returning-a-view-versus-a-copy\n",
            "  This is separate from the ipykernel package so we can avoid doing imports until\n"
          ]
        },
        {
          "output_type": "execute_result",
          "data": {
            "text/html": [
              "<div>\n",
              "<style scoped>\n",
              "    .dataframe tbody tr th:only-of-type {\n",
              "        vertical-align: middle;\n",
              "    }\n",
              "\n",
              "    .dataframe tbody tr th {\n",
              "        vertical-align: top;\n",
              "    }\n",
              "\n",
              "    .dataframe thead th {\n",
              "        text-align: right;\n",
              "    }\n",
              "</style>\n",
              "<table border=\"1\" class=\"dataframe\">\n",
              "  <thead>\n",
              "    <tr style=\"text-align: right;\">\n",
              "      <th></th>\n",
              "      <th>Close</th>\n",
              "      <th>Prediction</th>\n",
              "    </tr>\n",
              "  </thead>\n",
              "  <tbody>\n",
              "    <tr>\n",
              "      <th>2412</th>\n",
              "      <td>580.989990</td>\n",
              "      <td>NaN</td>\n",
              "    </tr>\n",
              "    <tr>\n",
              "      <th>2413</th>\n",
              "      <td>640.809998</td>\n",
              "      <td>NaN</td>\n",
              "    </tr>\n",
              "    <tr>\n",
              "      <th>2414</th>\n",
              "      <td>650.570007</td>\n",
              "      <td>NaN</td>\n",
              "    </tr>\n",
              "    <tr>\n",
              "      <th>2415</th>\n",
              "      <td>780.000000</td>\n",
              "      <td>NaN</td>\n",
              "    </tr>\n",
              "  </tbody>\n",
              "</table>\n",
              "</div>"
            ],
            "text/plain": [
              "           Close  Prediction\n",
              "2412  580.989990         NaN\n",
              "2413  640.809998         NaN\n",
              "2414  650.570007         NaN\n",
              "2415  780.000000         NaN"
            ]
          },
          "metadata": {},
          "execution_count": 22
        }
      ]
    },
    {
      "cell_type": "code",
      "metadata": {
        "colab": {
          "base_uri": "https://localhost:8080/"
        },
        "id": "CO-H7DPD6fpS",
        "outputId": "01d77298-e524-47ff-e8b1-446a3300b30b"
      },
      "source": [
        "x=np.array(df.drop(['Prediction'],1))[:-future_days]\n",
        "print(x)"
      ],
      "execution_count": 23,
      "outputs": [
        {
          "output_type": "stream",
          "name": "stdout",
          "text": [
            "[[ 23.889999]\n",
            " [ 23.83    ]\n",
            " [ 21.959999]\n",
            " ...\n",
            " [419.220001]\n",
            " [425.25    ]\n",
            " [430.940002]]\n"
          ]
        }
      ]
    },
    {
      "cell_type": "code",
      "metadata": {
        "colab": {
          "base_uri": "https://localhost:8080/"
        },
        "id": "_bvgiKCy60vG",
        "outputId": "9b14deb9-91a9-4454-d5d9-bd889fb5c5b0"
      },
      "source": [
        "y=np.array(df.drop(['Prediction'],1))[:-future_days]\n",
        "print(y)"
      ],
      "execution_count": 24,
      "outputs": [
        {
          "output_type": "stream",
          "name": "stdout",
          "text": [
            "[[ 23.889999]\n",
            " [ 23.83    ]\n",
            " [ 21.959999]\n",
            " ...\n",
            " [419.220001]\n",
            " [425.25    ]\n",
            " [430.940002]]\n"
          ]
        }
      ]
    },
    {
      "cell_type": "code",
      "metadata": {
        "id": "ee8FEAyv7BwE"
      },
      "source": [
        "x_train,x_test,y_train,y_test=train_test_split(x,y,test_size=0.25)"
      ],
      "execution_count": 25,
      "outputs": []
    },
    {
      "cell_type": "code",
      "metadata": {
        "colab": {
          "base_uri": "https://localhost:8080/"
        },
        "id": "J4_OJ-Xg7SbA",
        "outputId": "0372207a-8f94-44fe-d932-152a192c16c0"
      },
      "source": [
        "x_future=df.drop(['Prediction'],1)[:-future_days]\n",
        "x_future=x_future.tail(future_days)\n",
        "x_future=np.array(x_future)\n",
        "x_future"
      ],
      "execution_count": 27,
      "outputs": [
        {
          "output_type": "execute_result",
          "data": {
            "text/plain": [
              "array([[352.220001],\n",
              "       [354.829987],\n",
              "       [333.040009],\n",
              "       [336.339996],\n",
              "       [328.920013],\n",
              "       [331.290009],\n",
              "       [329.940002],\n",
              "       [334.869995],\n",
              "       [336.200012],\n",
              "       [333.029999],\n",
              "       [330.369995],\n",
              "       [335.890015],\n",
              "       [339.529999],\n",
              "       [348.839996],\n",
              "       [352.700012],\n",
              "       [359.679993],\n",
              "       [358.390015],\n",
              "       [381.5     ],\n",
              "       [378.98999 ],\n",
              "       [393.149994],\n",
              "       [404.040009],\n",
              "       [405.589996],\n",
              "       [419.220001],\n",
              "       [425.25    ],\n",
              "       [430.940002]])"
            ]
          },
          "metadata": {},
          "execution_count": 27
        }
      ]
    },
    {
      "cell_type": "code",
      "metadata": {
        "id": "4q1PXSMv73Cj"
      },
      "source": [
        "lr=LinearRegression().fit(x_train,y_train)"
      ],
      "execution_count": 28,
      "outputs": []
    },
    {
      "cell_type": "code",
      "metadata": {
        "colab": {
          "base_uri": "https://localhost:8080/"
        },
        "id": "ZZ01bDwg8Dsz",
        "outputId": "27fc060b-2da3-464b-f0cc-5eda52a703c8"
      },
      "source": [
        "lr_prediction=lr.predict(x_future)\n",
        "print(lr_prediction)"
      ],
      "execution_count": 29,
      "outputs": [
        {
          "output_type": "stream",
          "name": "stdout",
          "text": [
            "[[352.220001]\n",
            " [354.829987]\n",
            " [333.040009]\n",
            " [336.339996]\n",
            " [328.920013]\n",
            " [331.290009]\n",
            " [329.940002]\n",
            " [334.869995]\n",
            " [336.200012]\n",
            " [333.029999]\n",
            " [330.369995]\n",
            " [335.890015]\n",
            " [339.529999]\n",
            " [348.839996]\n",
            " [352.700012]\n",
            " [359.679993]\n",
            " [358.390015]\n",
            " [381.5     ]\n",
            " [378.98999 ]\n",
            " [393.149994]\n",
            " [404.040009]\n",
            " [405.589996]\n",
            " [419.220001]\n",
            " [425.25    ]\n",
            " [430.940002]]\n"
          ]
        }
      ]
    },
    {
      "cell_type": "code",
      "metadata": {
        "colab": {
          "base_uri": "https://localhost:8080/",
          "height": 614
        },
        "id": "z0-esNik8O31",
        "outputId": "d02ba115-58f2-43a0-b959-5bd1be895632"
      },
      "source": [
        "predictions=lr_prediction\n",
        "valid=df[x.shape[0]:]\n",
        "valid['Prediction']=predictions\n",
        "plt.figure(figsize=(16,8))\n",
        "plt.title('Model')\n",
        "plt.xlabel('Days')\n",
        "plt.ylabel('Close Price USD($)')\n",
        "plt.plot(df['Close'])\n",
        "plt.plot(valid[['Close','Prediction']])\n",
        "plt.legend(['Orig','Val','Pred'])\n",
        "plt.show()"
      ],
      "execution_count": 31,
      "outputs": [
        {
          "output_type": "stream",
          "name": "stderr",
          "text": [
            "/usr/local/lib/python3.7/dist-packages/ipykernel_launcher.py:3: SettingWithCopyWarning: \n",
            "A value is trying to be set on a copy of a slice from a DataFrame.\n",
            "Try using .loc[row_indexer,col_indexer] = value instead\n",
            "\n",
            "See the caveats in the documentation: https://pandas.pydata.org/pandas-docs/stable/user_guide/indexing.html#returning-a-view-versus-a-copy\n",
            "  This is separate from the ipykernel package so we can avoid doing imports until\n"
          ]
        },
        {
          "output_type": "display_data",
          "data": {
            "image/png": "[encoded data removed]",
            "text/plain": [
              "<Figure size 1152x576 with 1 Axes>"
            ]
          },
          "metadata": {
            "needs_background": "light"
          }
        }
      ]
    },
    {
      "cell_type": "markdown",
      "metadata": {
        "id": "jJo5OTP29ope"
      },
      "source": [
        ""
      ]
    }
  ]
}